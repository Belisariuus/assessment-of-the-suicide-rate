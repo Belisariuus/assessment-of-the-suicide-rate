{
 "cells": [
  {
   "cell_type": "markdown",
   "id": "f367405e",
   "metadata": {},
   "source": [
    "Оценка уровня суицидов в различных странах по социально-экономическим данным с применением методов машинного обучения\n",
    "=========================================================="
   ]
  },
  {
   "cell_type": "markdown",
   "id": "be6a2164",
   "metadata": {},
   "source": [
    "**Подготовка данных**\n",
    "===================="
   ]
  },
  {
   "cell_type": "code",
   "execution_count": 1,
   "id": "2335fdf0",
   "metadata": {},
   "outputs": [],
   "source": [
    "#Импортируем пакеты и библиотеки\n",
    "import pandas as pd\n",
    "import numpy as np\n",
    "import altair as alt\n",
    "import csv"
   ]
  },
  {
   "cell_type": "code",
   "execution_count": 2,
   "id": "076604ca",
   "metadata": {
    "scrolled": false
   },
   "outputs": [],
   "source": [
    "#Прочитаем csv файл\n",
    "df = pd.read_csv(\"Сountries.csv\", delimiter=',')"
   ]
  },
  {
   "cell_type": "code",
   "execution_count": 3,
   "id": "1d37d896",
   "metadata": {},
   "outputs": [
    {
     "data": {
      "text/plain": [
       "страна                           0.000000\n",
       "год                              0.000000\n",
       "пол                              0.000000\n",
       "возраст                          0.000000\n",
       "количество_самоубийства          0.000000\n",
       "население                        0.000000\n",
       "самоубийства_на_100к_человек     0.000000\n",
       "страна-год                       0.000000\n",
       "ИЧР_за_год                      69.224333\n",
       "ввп_за_год ($)                   0.000000\n",
       "ввп_на_душу_населения ($)        0.000000\n",
       "поколение                        0.000000\n",
       "dtype: float64"
      ]
     },
     "execution_count": 3,
     "metadata": {},
     "output_type": "execute_result"
    }
   ],
   "source": [
    "#Проверяем на заполненность\n",
    "df.isna().sum()* 100 / len(df)"
   ]
  },
  {
   "cell_type": "code",
   "execution_count": 4,
   "id": "b3c907d4",
   "metadata": {},
   "outputs": [
    {
     "data": {
      "text/plain": [
       "Index(['страна', 'год', 'пол', 'возраст', 'количество_самоубийства',\n",
       "       'население', 'самоубийства_на_100к_человек', 'страна-год', 'ИЧР_за_год',\n",
       "       'ввп_за_год ($) ', 'ввп_на_душу_населения ($)', 'поколение'],\n",
       "      dtype='object')"
      ]
     },
     "execution_count": 4,
     "metadata": {},
     "output_type": "execute_result"
    }
   ],
   "source": [
    "#Проверка имен столбцов\n",
    "df.columns"
   ]
  },
  {
   "cell_type": "code",
   "execution_count": 5,
   "id": "d76c1167",
   "metadata": {},
   "outputs": [],
   "source": [
    "#Переименуем столбцы для удобства\n",
    "df.columns=['страна', 'год', 'пол', 'возраст', 'количество_самоубийств', 'население',\n",
    "       'самоубийства_на_100к_человек', 'страна-год','ИЧР_за_год', 'ВВП_за_год',\n",
    "       'ВВП_на_душу_населения', 'поколение']"
   ]
  },
  {
   "cell_type": "code",
   "execution_count": 6,
   "id": "2e5287fa",
   "metadata": {},
   "outputs": [],
   "source": [
    "#Удалим ненужные столбцы\n",
    "df = df.drop(['поколение', 'страна-год'], axis=1)"
   ]
  },
  {
   "cell_type": "code",
   "execution_count": 7,
   "id": "4056809e",
   "metadata": {},
   "outputs": [],
   "source": [
    "#Заполним отсутствующие значения в столбце средним значением ИЧР для каждой страны\n",
    "df['ИЧР_за_год'] = df.ИЧР_за_год.fillna(df.groupby([\"страна\"])[\"ИЧР_за_год\"].transform(np.mean))\n",
    "#Оставшиеся отсутсвующие значения заполним 0\n",
    "df['ИЧР_за_год'] = np.where(df.ИЧР_за_год.isna(), 0, df.ИЧР_за_год)"
   ]
  },
  {
   "cell_type": "code",
   "execution_count": 8,
   "id": "1b247581",
   "metadata": {},
   "outputs": [
    {
     "data": {
      "text/plain": [
       "страна                          0.0\n",
       "год                             0.0\n",
       "пол                             0.0\n",
       "возраст                         0.0\n",
       "количество_самоубийств          0.0\n",
       "население                       0.0\n",
       "самоубийства_на_100к_человек    0.0\n",
       "ИЧР_за_год                      0.0\n",
       "ВВП_за_год                      0.0\n",
       "ВВП_на_душу_населения           0.0\n",
       "dtype: float64"
      ]
     },
     "execution_count": 8,
     "metadata": {},
     "output_type": "execute_result"
    }
   ],
   "source": [
    "#Проверим содержание нулевого значения в столбцах\n",
    "df.isna().sum()* 100 / len(df)"
   ]
  },
  {
   "cell_type": "code",
   "execution_count": 9,
   "id": "d3354dbc",
   "metadata": {},
   "outputs": [],
   "source": [
    "#Прочитаем новый Excel файл с показателями индекса безработицы\n",
    "indicator = pd.read_excel(\"Unemployment.xlsx\")"
   ]
  },
  {
   "cell_type": "code",
   "execution_count": 10,
   "id": "4e544c86",
   "metadata": {},
   "outputs": [
    {
     "data": {
      "text/html": [
       "<div>\n",
       "<style scoped>\n",
       "    .dataframe tbody tr th:only-of-type {\n",
       "        vertical-align: middle;\n",
       "    }\n",
       "\n",
       "    .dataframe tbody tr th {\n",
       "        vertical-align: top;\n",
       "    }\n",
       "\n",
       "    .dataframe thead th {\n",
       "        text-align: right;\n",
       "    }\n",
       "</style>\n",
       "<table border=\"1\" class=\"dataframe\">\n",
       "  <thead>\n",
       "    <tr style=\"text-align: right;\">\n",
       "      <th></th>\n",
       "      <th>страна</th>\n",
       "      <th>1985</th>\n",
       "      <th>1986</th>\n",
       "      <th>1987</th>\n",
       "      <th>1988</th>\n",
       "      <th>1989</th>\n",
       "      <th>1990</th>\n",
       "      <th>1991</th>\n",
       "      <th>1992</th>\n",
       "      <th>1993</th>\n",
       "      <th>...</th>\n",
       "      <th>2007</th>\n",
       "      <th>2008</th>\n",
       "      <th>2009</th>\n",
       "      <th>2010</th>\n",
       "      <th>2011</th>\n",
       "      <th>2012</th>\n",
       "      <th>2013</th>\n",
       "      <th>2014</th>\n",
       "      <th>2015</th>\n",
       "      <th>2016</th>\n",
       "    </tr>\n",
       "  </thead>\n",
       "  <tbody>\n",
       "    <tr>\n",
       "      <th>0</th>\n",
       "      <td>Австралия</td>\n",
       "      <td>8.3</td>\n",
       "      <td>8.1</td>\n",
       "      <td>8.1</td>\n",
       "      <td>7.2</td>\n",
       "      <td>6.1</td>\n",
       "      <td>6.9</td>\n",
       "      <td>9.6</td>\n",
       "      <td>10.7</td>\n",
       "      <td>10.9</td>\n",
       "      <td>...</td>\n",
       "      <td>4.4</td>\n",
       "      <td>4.3</td>\n",
       "      <td>5.6</td>\n",
       "      <td>5.2</td>\n",
       "      <td>5.1</td>\n",
       "      <td>5.2</td>\n",
       "      <td>5.7</td>\n",
       "      <td>6.1</td>\n",
       "      <td>6.1</td>\n",
       "      <td>6.1</td>\n",
       "    </tr>\n",
       "    <tr>\n",
       "      <th>1</th>\n",
       "      <td>Австрия</td>\n",
       "      <td>3.6</td>\n",
       "      <td>3.1</td>\n",
       "      <td>3.8</td>\n",
       "      <td>2.7</td>\n",
       "      <td>2.3</td>\n",
       "      <td>2.7</td>\n",
       "      <td>3.2</td>\n",
       "      <td>3.3</td>\n",
       "      <td>4</td>\n",
       "      <td>...</td>\n",
       "      <td>5.2</td>\n",
       "      <td>4.4</td>\n",
       "      <td>5.7</td>\n",
       "      <td>5.2</td>\n",
       "      <td>4.9</td>\n",
       "      <td>5.2</td>\n",
       "      <td>5.4</td>\n",
       "      <td>6</td>\n",
       "      <td>6.2</td>\n",
       "      <td>6.2</td>\n",
       "    </tr>\n",
       "    <tr>\n",
       "      <th>2</th>\n",
       "      <td>Азербайджан</td>\n",
       "      <td>-</td>\n",
       "      <td>-</td>\n",
       "      <td>-</td>\n",
       "      <td>-</td>\n",
       "      <td>-</td>\n",
       "      <td>-</td>\n",
       "      <td>-</td>\n",
       "      <td>-</td>\n",
       "      <td>-</td>\n",
       "      <td>...</td>\n",
       "      <td>6.3</td>\n",
       "      <td>5.9</td>\n",
       "      <td>5.7</td>\n",
       "      <td>5.6</td>\n",
       "      <td>5.4</td>\n",
       "      <td>5.2</td>\n",
       "      <td>5</td>\n",
       "      <td>4.9</td>\n",
       "      <td>5</td>\n",
       "      <td>5</td>\n",
       "    </tr>\n",
       "    <tr>\n",
       "      <th>3</th>\n",
       "      <td>Албания</td>\n",
       "      <td>5.9</td>\n",
       "      <td>5.4</td>\n",
       "      <td>5.2</td>\n",
       "      <td>6</td>\n",
       "      <td>6.7</td>\n",
       "      <td>8.5</td>\n",
       "      <td>8.9</td>\n",
       "      <td>26.5</td>\n",
       "      <td>22.3</td>\n",
       "      <td>...</td>\n",
       "      <td>13.4</td>\n",
       "      <td>13.1</td>\n",
       "      <td>13.8</td>\n",
       "      <td>14</td>\n",
       "      <td>14</td>\n",
       "      <td>13.4</td>\n",
       "      <td>15.9</td>\n",
       "      <td>17.5</td>\n",
       "      <td>17.1</td>\n",
       "      <td>17.1</td>\n",
       "    </tr>\n",
       "    <tr>\n",
       "      <th>4</th>\n",
       "      <td>Алжир</td>\n",
       "      <td>16.9</td>\n",
       "      <td>18.4</td>\n",
       "      <td>20.1</td>\n",
       "      <td>21.8</td>\n",
       "      <td>18.1</td>\n",
       "      <td>19.8</td>\n",
       "      <td>20.3</td>\n",
       "      <td>21.4</td>\n",
       "      <td>23.2</td>\n",
       "      <td>...</td>\n",
       "      <td>13.8</td>\n",
       "      <td>11.3</td>\n",
       "      <td>10.2</td>\n",
       "      <td>10</td>\n",
       "      <td>10</td>\n",
       "      <td>11</td>\n",
       "      <td>9.8</td>\n",
       "      <td>10.6</td>\n",
       "      <td>11.2</td>\n",
       "      <td>11.2</td>\n",
       "    </tr>\n",
       "  </tbody>\n",
       "</table>\n",
       "<p>5 rows × 33 columns</p>\n",
       "</div>"
      ],
      "text/plain": [
       "        страна  1985  1986  1987  1988  1989  1990  1991  1992  1993  ...  \\\n",
       "0    Австралия   8.3   8.1   8.1   7.2   6.1   6.9   9.6  10.7  10.9  ...   \n",
       "1      Австрия   3.6   3.1   3.8   2.7   2.3   2.7   3.2   3.3     4  ...   \n",
       "2  Азербайджан     -     -     -     -     -     -     -     -     -  ...   \n",
       "3      Албания   5.9   5.4   5.2     6   6.7   8.5   8.9  26.5  22.3  ...   \n",
       "4        Алжир  16.9  18.4  20.1  21.8  18.1  19.8  20.3  21.4  23.2  ...   \n",
       "\n",
       "   2007  2008  2009 2010 2011  2012  2013  2014  2015  2016  \n",
       "0   4.4   4.3   5.6  5.2  5.1   5.2   5.7   6.1   6.1   6.1  \n",
       "1   5.2   4.4   5.7  5.2  4.9   5.2   5.4     6   6.2   6.2  \n",
       "2   6.3   5.9   5.7  5.6  5.4   5.2     5   4.9     5     5  \n",
       "3  13.4  13.1  13.8   14   14  13.4  15.9  17.5  17.1  17.1  \n",
       "4  13.8  11.3  10.2   10   10    11   9.8  10.6  11.2  11.2  \n",
       "\n",
       "[5 rows x 33 columns]"
      ]
     },
     "execution_count": 10,
     "metadata": {},
     "output_type": "execute_result"
    }
   ],
   "source": [
    "#Проверим новый dataframe\n",
    "indicator.head()"
   ]
  },
  {
   "cell_type": "code",
   "execution_count": 11,
   "id": "22f70347",
   "metadata": {},
   "outputs": [],
   "source": [
    "#Создадим новый столбец в df\n",
    "df['индекс_безработицы']=np.nan"
   ]
  },
  {
   "cell_type": "code",
   "execution_count": 12,
   "id": "05980f7b",
   "metadata": {},
   "outputs": [],
   "source": [
    "#Переименуем столбцы в строковый тип\n",
    "for year in range(1985, 2017):\n",
    "    column_name = str(year)\n",
    "    indicator.rename(columns={year: column_name}, inplace=True)"
   ]
  },
  {
   "cell_type": "code",
   "execution_count": 13,
   "id": "74e277c0",
   "metadata": {},
   "outputs": [],
   "source": [
    "#В соотвествии с названием страны вычислим индекс безработицы по годам и добавим в dataframe\n",
    "for i in range(df.shape[0]):\n",
    "    code=df.loc[i, 'страна']\n",
    "    year=df.loc[i, 'год']\n",
    "    a=indicator[indicator['страна']==code][str(int(year))].values\n",
    "    df.loc[i,'индекс_безработицы']=a[0]"
   ]
  },
  {
   "cell_type": "code",
   "execution_count": 14,
   "id": "a7992748",
   "metadata": {
    "scrolled": true
   },
   "outputs": [
    {
     "data": {
      "text/plain": [
       "страна                          0.0\n",
       "год                             0.0\n",
       "пол                             0.0\n",
       "возраст                         0.0\n",
       "количество_самоубийств          0.0\n",
       "население                       0.0\n",
       "самоубийства_на_100к_человек    0.0\n",
       "ИЧР_за_год                      0.0\n",
       "ВВП_за_год                      0.0\n",
       "ВВП_на_душу_населения           0.0\n",
       "индекс_безработицы              0.0\n",
       "dtype: float64"
      ]
     },
     "execution_count": 14,
     "metadata": {},
     "output_type": "execute_result"
    }
   ],
   "source": [
    "#Проверим наличие пустых значений\n",
    "df.isna().sum()* 100 / len(df)"
   ]
  },
  {
   "cell_type": "code",
   "execution_count": 15,
   "id": "473e688a",
   "metadata": {
    "scrolled": true
   },
   "outputs": [],
   "source": [
    "#Преобразуем столбец 'индекс_безработицы' в числовой формат, используя функцию pd.to_numeric().\n",
    "df['индекс_безработицы'] = pd.to_numeric(df['индекс_безработицы'], errors='coerce')"
   ]
  },
  {
   "cell_type": "code",
   "execution_count": 16,
   "id": "dcf70ad8",
   "metadata": {},
   "outputs": [
    {
     "name": "stderr",
     "output_type": "stream",
     "text": [
      "C:\\Users\\artem\\AppData\\Local\\Temp\\ipykernel_9648\\1844363465.py:3: FutureWarning: The default value of numeric_only in DataFrameGroupBy.mean is deprecated. In a future version, numeric_only will default to False. Either specify numeric_only or select only columns which should be valid for the function.\n",
      "  tempo = gp.mean()['индекс_безработицы']\n"
     ]
    }
   ],
   "source": [
    "#Сгрупируем dataframe по странам\n",
    "gp = df.groupby('страна')\n",
    "tempo = gp.mean()['индекс_безработицы']\n"
   ]
  },
  {
   "cell_type": "code",
   "execution_count": 17,
   "id": "bd6598c4",
   "metadata": {},
   "outputs": [
    {
     "data": {
      "text/plain": [
       "страна                          0.000000\n",
       "год                             0.000000\n",
       "пол                             0.000000\n",
       "возраст                         0.000000\n",
       "количество_самоубийств          0.000000\n",
       "население                       0.000000\n",
       "самоубийства_на_100к_человек    0.000000\n",
       "ИЧР_за_год                      0.000000\n",
       "ВВП_за_год                      0.000000\n",
       "ВВП_на_душу_населения           0.000000\n",
       "индекс_безработицы              5.773575\n",
       "dtype: float64"
      ]
     },
     "execution_count": 17,
     "metadata": {},
     "output_type": "execute_result"
    }
   ],
   "source": [
    "df.isna().sum()* 100 / len(df)"
   ]
  },
  {
   "cell_type": "code",
   "execution_count": 18,
   "id": "df4b0116",
   "metadata": {},
   "outputs": [],
   "source": [
    "#Создадим dataframe из новых данных\n",
    "df_tempo=pd.DataFrame({'страна':tempo.keys(),'индекс_безработицы':tempo.values})"
   ]
  },
  {
   "cell_type": "code",
   "execution_count": 19,
   "id": "2e76f18a",
   "metadata": {},
   "outputs": [
    {
     "data": {
      "text/html": [
       "<div>\n",
       "<style scoped>\n",
       "    .dataframe tbody tr th:only-of-type {\n",
       "        vertical-align: middle;\n",
       "    }\n",
       "\n",
       "    .dataframe tbody tr th {\n",
       "        vertical-align: top;\n",
       "    }\n",
       "\n",
       "    .dataframe thead th {\n",
       "        text-align: right;\n",
       "    }\n",
       "</style>\n",
       "<table border=\"1\" class=\"dataframe\">\n",
       "  <thead>\n",
       "    <tr style=\"text-align: right;\">\n",
       "      <th></th>\n",
       "      <th>страна</th>\n",
       "      <th>год</th>\n",
       "      <th>пол</th>\n",
       "      <th>возраст</th>\n",
       "      <th>количество_самоубийств</th>\n",
       "      <th>население</th>\n",
       "      <th>самоубийства_на_100к_человек</th>\n",
       "      <th>ИЧР_за_год</th>\n",
       "      <th>ВВП_за_год</th>\n",
       "      <th>ВВП_на_душу_населения</th>\n",
       "      <th>индекс_безработицы_x</th>\n",
       "      <th>индекс_безработицы_y</th>\n",
       "    </tr>\n",
       "  </thead>\n",
       "  <tbody>\n",
       "    <tr>\n",
       "      <th>0</th>\n",
       "      <td>Албания</td>\n",
       "      <td>1987</td>\n",
       "      <td>мужской</td>\n",
       "      <td>15-24 лет</td>\n",
       "      <td>21</td>\n",
       "      <td>312900</td>\n",
       "      <td>6.71</td>\n",
       "      <td>0.673</td>\n",
       "      <td>2,156,624,900</td>\n",
       "      <td>796</td>\n",
       "      <td>5.2</td>\n",
       "      <td>14.631818</td>\n",
       "    </tr>\n",
       "    <tr>\n",
       "      <th>1</th>\n",
       "      <td>Албания</td>\n",
       "      <td>1987</td>\n",
       "      <td>мужской</td>\n",
       "      <td>35-54 лет</td>\n",
       "      <td>16</td>\n",
       "      <td>308000</td>\n",
       "      <td>5.19</td>\n",
       "      <td>0.673</td>\n",
       "      <td>2,156,624,900</td>\n",
       "      <td>796</td>\n",
       "      <td>5.2</td>\n",
       "      <td>14.631818</td>\n",
       "    </tr>\n",
       "    <tr>\n",
       "      <th>2</th>\n",
       "      <td>Албания</td>\n",
       "      <td>1987</td>\n",
       "      <td>женский</td>\n",
       "      <td>15-24 лет</td>\n",
       "      <td>14</td>\n",
       "      <td>289700</td>\n",
       "      <td>4.83</td>\n",
       "      <td>0.673</td>\n",
       "      <td>2,156,624,900</td>\n",
       "      <td>796</td>\n",
       "      <td>5.2</td>\n",
       "      <td>14.631818</td>\n",
       "    </tr>\n",
       "    <tr>\n",
       "      <th>3</th>\n",
       "      <td>Албания</td>\n",
       "      <td>1987</td>\n",
       "      <td>мужской</td>\n",
       "      <td>75+ лет</td>\n",
       "      <td>1</td>\n",
       "      <td>21800</td>\n",
       "      <td>4.59</td>\n",
       "      <td>0.673</td>\n",
       "      <td>2,156,624,900</td>\n",
       "      <td>796</td>\n",
       "      <td>5.2</td>\n",
       "      <td>14.631818</td>\n",
       "    </tr>\n",
       "    <tr>\n",
       "      <th>4</th>\n",
       "      <td>Албания</td>\n",
       "      <td>1987</td>\n",
       "      <td>мужской</td>\n",
       "      <td>25-34 лет</td>\n",
       "      <td>9</td>\n",
       "      <td>274300</td>\n",
       "      <td>3.28</td>\n",
       "      <td>0.673</td>\n",
       "      <td>2,156,624,900</td>\n",
       "      <td>796</td>\n",
       "      <td>5.2</td>\n",
       "      <td>14.631818</td>\n",
       "    </tr>\n",
       "  </tbody>\n",
       "</table>\n",
       "</div>"
      ],
      "text/plain": [
       "    страна   год      пол    возраст  количество_самоубийств  население  \\\n",
       "0  Албания  1987  мужской  15-24 лет                      21     312900   \n",
       "1  Албания  1987  мужской  35-54 лет                      16     308000   \n",
       "2  Албания  1987  женский  15-24 лет                      14     289700   \n",
       "3  Албания  1987  мужской    75+ лет                       1      21800   \n",
       "4  Албания  1987  мужской  25-34 лет                       9     274300   \n",
       "\n",
       "   самоубийства_на_100к_человек  ИЧР_за_год     ВВП_за_год  \\\n",
       "0                          6.71       0.673  2,156,624,900   \n",
       "1                          5.19       0.673  2,156,624,900   \n",
       "2                          4.83       0.673  2,156,624,900   \n",
       "3                          4.59       0.673  2,156,624,900   \n",
       "4                          3.28       0.673  2,156,624,900   \n",
       "\n",
       "   ВВП_на_душу_населения  индекс_безработицы_x  индекс_безработицы_y  \n",
       "0                    796                   5.2             14.631818  \n",
       "1                    796                   5.2             14.631818  \n",
       "2                    796                   5.2             14.631818  \n",
       "3                    796                   5.2             14.631818  \n",
       "4                    796                   5.2             14.631818  "
      ]
     },
     "execution_count": 19,
     "metadata": {},
     "output_type": "execute_result"
    }
   ],
   "source": [
    "#Выполним операцию объединения по столбцу \"страна\" \n",
    "df.merge(df_tempo,on='страна',how='left').head()"
   ]
  },
  {
   "cell_type": "code",
   "execution_count": 20,
   "id": "c9700353",
   "metadata": {},
   "outputs": [],
   "source": [
    "#Заполним пропущенные значения индекса безработицы\n",
    "df['индекс_безработицы']=df['индекс_безработицы'].fillna(df.merge(df_tempo,on='страна',how='left')['индекс_безработицы_y'])"
   ]
  },
  {
   "cell_type": "code",
   "execution_count": 21,
   "id": "4f983abd",
   "metadata": {},
   "outputs": [
    {
     "data": {
      "text/html": [
       "<div>\n",
       "<style scoped>\n",
       "    .dataframe tbody tr th:only-of-type {\n",
       "        vertical-align: middle;\n",
       "    }\n",
       "\n",
       "    .dataframe tbody tr th {\n",
       "        vertical-align: top;\n",
       "    }\n",
       "\n",
       "    .dataframe thead th {\n",
       "        text-align: right;\n",
       "    }\n",
       "</style>\n",
       "<table border=\"1\" class=\"dataframe\">\n",
       "  <thead>\n",
       "    <tr style=\"text-align: right;\">\n",
       "      <th></th>\n",
       "      <th>страна</th>\n",
       "      <th>год</th>\n",
       "      <th>пол</th>\n",
       "      <th>возраст</th>\n",
       "      <th>количество_самоубийств</th>\n",
       "      <th>население</th>\n",
       "      <th>самоубийства_на_100к_человек</th>\n",
       "      <th>ИЧР_за_год</th>\n",
       "      <th>ВВП_за_год</th>\n",
       "      <th>ВВП_на_душу_населения</th>\n",
       "      <th>индекс_безработицы</th>\n",
       "    </tr>\n",
       "  </thead>\n",
       "  <tbody>\n",
       "    <tr>\n",
       "      <th>0</th>\n",
       "      <td>Албания</td>\n",
       "      <td>1987</td>\n",
       "      <td>мужской</td>\n",
       "      <td>15-24 лет</td>\n",
       "      <td>21</td>\n",
       "      <td>312900</td>\n",
       "      <td>6.71</td>\n",
       "      <td>0.673</td>\n",
       "      <td>2,156,624,900</td>\n",
       "      <td>796</td>\n",
       "      <td>5.2</td>\n",
       "    </tr>\n",
       "    <tr>\n",
       "      <th>1</th>\n",
       "      <td>Албания</td>\n",
       "      <td>1987</td>\n",
       "      <td>мужской</td>\n",
       "      <td>35-54 лет</td>\n",
       "      <td>16</td>\n",
       "      <td>308000</td>\n",
       "      <td>5.19</td>\n",
       "      <td>0.673</td>\n",
       "      <td>2,156,624,900</td>\n",
       "      <td>796</td>\n",
       "      <td>5.2</td>\n",
       "    </tr>\n",
       "    <tr>\n",
       "      <th>2</th>\n",
       "      <td>Албания</td>\n",
       "      <td>1987</td>\n",
       "      <td>женский</td>\n",
       "      <td>15-24 лет</td>\n",
       "      <td>14</td>\n",
       "      <td>289700</td>\n",
       "      <td>4.83</td>\n",
       "      <td>0.673</td>\n",
       "      <td>2,156,624,900</td>\n",
       "      <td>796</td>\n",
       "      <td>5.2</td>\n",
       "    </tr>\n",
       "    <tr>\n",
       "      <th>3</th>\n",
       "      <td>Албания</td>\n",
       "      <td>1987</td>\n",
       "      <td>мужской</td>\n",
       "      <td>75+ лет</td>\n",
       "      <td>1</td>\n",
       "      <td>21800</td>\n",
       "      <td>4.59</td>\n",
       "      <td>0.673</td>\n",
       "      <td>2,156,624,900</td>\n",
       "      <td>796</td>\n",
       "      <td>5.2</td>\n",
       "    </tr>\n",
       "    <tr>\n",
       "      <th>4</th>\n",
       "      <td>Албания</td>\n",
       "      <td>1987</td>\n",
       "      <td>мужской</td>\n",
       "      <td>25-34 лет</td>\n",
       "      <td>9</td>\n",
       "      <td>274300</td>\n",
       "      <td>3.28</td>\n",
       "      <td>0.673</td>\n",
       "      <td>2,156,624,900</td>\n",
       "      <td>796</td>\n",
       "      <td>5.2</td>\n",
       "    </tr>\n",
       "  </tbody>\n",
       "</table>\n",
       "</div>"
      ],
      "text/plain": [
       "    страна   год      пол    возраст  количество_самоубийств  население  \\\n",
       "0  Албания  1987  мужской  15-24 лет                      21     312900   \n",
       "1  Албания  1987  мужской  35-54 лет                      16     308000   \n",
       "2  Албания  1987  женский  15-24 лет                      14     289700   \n",
       "3  Албания  1987  мужской    75+ лет                       1      21800   \n",
       "4  Албания  1987  мужской  25-34 лет                       9     274300   \n",
       "\n",
       "   самоубийства_на_100к_человек  ИЧР_за_год     ВВП_за_год  \\\n",
       "0                          6.71       0.673  2,156,624,900   \n",
       "1                          5.19       0.673  2,156,624,900   \n",
       "2                          4.83       0.673  2,156,624,900   \n",
       "3                          4.59       0.673  2,156,624,900   \n",
       "4                          3.28       0.673  2,156,624,900   \n",
       "\n",
       "   ВВП_на_душу_населения  индекс_безработицы  \n",
       "0                    796                 5.2  \n",
       "1                    796                 5.2  \n",
       "2                    796                 5.2  \n",
       "3                    796                 5.2  \n",
       "4                    796                 5.2  "
      ]
     },
     "execution_count": 21,
     "metadata": {},
     "output_type": "execute_result"
    }
   ],
   "source": [
    "#Проверим\n",
    "df.head()"
   ]
  },
  {
   "cell_type": "code",
   "execution_count": 22,
   "id": "0691af4c",
   "metadata": {},
   "outputs": [
    {
     "data": {
      "text/plain": [
       "страна                          0.0\n",
       "год                             0.0\n",
       "пол                             0.0\n",
       "возраст                         0.0\n",
       "количество_самоубийств          0.0\n",
       "население                       0.0\n",
       "самоубийства_на_100к_человек    0.0\n",
       "ИЧР_за_год                      0.0\n",
       "ВВП_за_год                      0.0\n",
       "ВВП_на_душу_населения           0.0\n",
       "индекс_безработицы              0.0\n",
       "dtype: float64"
      ]
     },
     "execution_count": 22,
     "metadata": {},
     "output_type": "execute_result"
    }
   ],
   "source": [
    "#финальная проверка на наличие нулевых значений\n",
    "df.isna().sum()* 100 / len(df)"
   ]
  },
  {
   "cell_type": "code",
   "execution_count": 23,
   "id": "c2d3e1ef",
   "metadata": {},
   "outputs": [],
   "source": [
    "#Добавляем новый столбец \"регион\"\n",
    "\n",
    "Europe = [\"Албания\", \"Россия\", \"Франция\", \"Украина\", \"Германия\", \"Польша\", \"Великобритания\",\n",
    "    \"Италия\", \"Испания\", \"Венгрия\", \"Румыния\", \"Бельгия\", \"Беларусь\", \"Нидерланды\", \"Австрия\",\n",
    "    \"Чехия\", \"Швеция\", \"Болгария\", \"Финляндия\", \"Литва\", \"Швейцария\", \"Сербия\",\n",
    "    \"Португалия\", \"Хорватия\", \"Норвегия\", \"Дания\", \"Словакия\", \"Латвия\", \"Греция\", \"Словения\",\n",
    "    \"Турция\", \"Эстония\", \"Грузия\", \"Албания\", \"Люксембург\", \"Армения\", \"Исландия\", \"Черногория\",\n",
    "    \"Кипр\", \"Босния и Герцеговина\", \"Сан-Марино\", \"Мальта\", \"Ирландия\"]\n",
    "NorthAmerica = [\"США\", \"Мексика\", \"Канада\", \"Куба\", \"Сальвадор\", \"Пуэрто-Рико\",\n",
    "    \"Гватемала\", \"Коста-Рика\", \"Никарагуа\", \"Белиз\", \"Ямайка\"]\n",
    "SouthAmerica = [\"Бразилия\", \"Колумбия\", \"Чили\", \"Эквадор\", \"Уругвай\", \"Парагвай\", \"Аргентина\",\n",
    "    \"Панама\", \"Гайана\", \"Суринам\"]\n",
    "MiddleEast = [\"Казахстан\", \"Узбекистан\", \"Киргизия\", \"Израиль\", \"Туркменистан\", \"Азербайджан\",\n",
    "    \"Кувейт\", \"Объединенные Арабские Эмираты\", \"Катар\", \"Бахрейн\", \"Оман\"]\n",
    "Asia = [\"Япония\", \"Республика Корея\", \"Таиланд\", \"Шри-Ланка\", \"Филиппины\", \"Новая Зеландия\",\n",
    "    \"Австралия\", \"Сингапур\", \"Макао\", \"Монголия\"]\n",
    "\n",
    "def match_region(x):\n",
    "    if x in Europe:\n",
    "        x = 'Европа'\n",
    "    elif x in NorthAmerica:\n",
    "        x = 'Северная Америка'\n",
    "    elif x in SouthAmerica:\n",
    "        x = 'Южная Америка'\n",
    "    elif x in MiddleEast:\n",
    "        x = 'Ближний Восток'\n",
    "    elif x in Asia:\n",
    "        x = 'Азия'\n",
    "    else:\n",
    "        x = 'Островные государства'\n",
    "    return x\n",
    "  \n",
    "\n",
    "df['регион'] = df.страна.map(lambda x: match_region(x))"
   ]
  },
  {
   "cell_type": "code",
   "execution_count": 24,
   "id": "8e026d7d",
   "metadata": {},
   "outputs": [
    {
     "name": "stdout",
     "output_type": "stream",
     "text": [
      "<class 'pandas.core.frame.DataFrame'>\n",
      "RangeIndex: 23902 entries, 0 to 23901\n",
      "Data columns (total 12 columns):\n",
      " #   Column                        Non-Null Count  Dtype  \n",
      "---  ------                        --------------  -----  \n",
      " 0   страна                        23902 non-null  object \n",
      " 1   год                           23902 non-null  int64  \n",
      " 2   пол                           23902 non-null  object \n",
      " 3   возраст                       23902 non-null  object \n",
      " 4   количество_самоубийств        23902 non-null  int64  \n",
      " 5   население                     23902 non-null  int64  \n",
      " 6   самоубийства_на_100к_человек  23902 non-null  float64\n",
      " 7   ИЧР_за_год                    23902 non-null  float64\n",
      " 8   ВВП_за_год                    23902 non-null  object \n",
      " 9   ВВП_на_душу_населения         23902 non-null  int64  \n",
      " 10  индекс_безработицы            23902 non-null  float64\n",
      " 11  регион                        23902 non-null  object \n",
      "dtypes: float64(3), int64(4), object(5)\n",
      "memory usage: 2.2+ MB\n"
     ]
    }
   ],
   "source": [
    "#Проверка типов данных\n",
    "df.info()"
   ]
  },
  {
   "cell_type": "code",
   "execution_count": 25,
   "id": "87fd7593",
   "metadata": {},
   "outputs": [],
   "source": [
    "df['ВВП_за_год'] = df['ВВП_за_год'].astype(str)\n",
    "df['ВВП_за_год'] = df['ВВП_за_год'].str.replace(',', '').astype(float)"
   ]
  },
  {
   "cell_type": "code",
   "execution_count": 26,
   "id": "fd275edf",
   "metadata": {},
   "outputs": [],
   "source": [
    "new_df = df.loc[df['год'] > 2014].copy()\n",
    "new_df1 = df.loc[df['год'] < 2015].copy()"
   ]
  },
  {
   "cell_type": "code",
   "execution_count": 27,
   "id": "4b511316",
   "metadata": {},
   "outputs": [],
   "source": [
    "new_df1.to_csv('Train.csv', index=False)\n",
    "new_df.to_csv('Test.csv', index=False)"
   ]
  },
  {
   "cell_type": "markdown",
   "id": "c95fca02",
   "metadata": {},
   "source": [
    "**Статистика по самоубийствам**\n",
    "============================"
   ]
  },
  {
   "cell_type": "code",
   "execution_count": 28,
   "id": "4e37ca49",
   "metadata": {},
   "outputs": [],
   "source": [
    "grouped_df = df.groupby('страна')['количество_самоубийств'].sum().reset_index()"
   ]
  },
  {
   "cell_type": "code",
   "execution_count": 29,
   "id": "a13128b8",
   "metadata": {},
   "outputs": [
    {
     "data": {
      "image/png": "[encoded data removed]",
      "text/plain": [
       "<Figure size 1000x600 with 1 Axes>"
      ]
     },
     "metadata": {},
     "output_type": "display_data"
    }
   ],
   "source": [
    "import matplotlib.pyplot as plt\n",
    "\n",
    "# Сортировка стран в порядке убывания по количеству самоубийств\n",
    "sorted_df = grouped_df.sort_values('количество_самоубийств', ascending=True)\n",
    "\n",
    "# Создание гистограммы\n",
    "plt.figure(figsize=(10, 6))\n",
    "plt.barh(sorted_df['страна'], sorted_df['количество_самоубийств'])\n",
    "plt.xlabel('Количество самоубийств', fontsize=10)\n",
    "plt.ylabel('Количество самоубийств', fontsize=10)\n",
    "plt.tick_params(axis='x', labelsize=4)\n",
    "plt.tick_params(axis='y', labelsize=4)\n",
    "plt.title('Количество самоубийств по странам')\n",
    "plt.xlabel('Количество самоубийств')\n",
    "plt.ylabel('Страна')\n",
    "plt.show()"
   ]
  },
  {
   "cell_type": "code",
   "execution_count": 30,
   "id": "e4c95e65",
   "metadata": {},
   "outputs": [
    {
     "data": {
      "text/plain": [
       "страна\n",
       "Россия                  1209742\n",
       "США                     1034013\n",
       "Япония                   806902\n",
       "Франция                  329127\n",
       "Украина                  319950\n",
       "Германия                 291262\n",
       "Республика Корея         261730\n",
       "Бразилия                 226613\n",
       "Польша                   139098\n",
       "Великобритания           136805\n",
       "Италия                   132060\n",
       "Мексика                  111139\n",
       "Канада                   107561\n",
       "Казахстан                101546\n",
       "Испания                  100202\n",
       "Аргентина                 82219\n",
       "Венгрия                   73891\n",
       "Румыния                   72777\n",
       "Австралия                 70115\n",
       "Бельгия                   62761\n",
       "Беларусь                  59892\n",
       "Шри-Ланка                 55641\n",
       "Колумбия                  53080\n",
       "Нидерланды                50833\n",
       "Австрия                   50073\n",
       "Чехия                     43687\n",
       "Чили                      40895\n",
       "Швеция                    37795\n",
       "Болгария                  36388\n",
       "Узбекистан                34803\n",
       "Финляндия                 33677\n",
       "Литва                     28039\n",
       "Швейцария                 26217\n",
       "Сербия                    24179\n",
       "Португалия                24061\n",
       "Филиппины                 21330\n",
       "Эквадор                   20660\n",
       "Хорватия                  18429\n",
       "Норвегия                  16992\n",
       "Дания                     15297\n",
       "Новая Зеландия            14383\n",
       "Словакия                  13437\n",
       "Уругвай                   13138\n",
       "Киргизия                  13090\n",
       "Латвия                    12770\n",
       "Ирландия                  12574\n",
       "Греция                    12368\n",
       "Сальвадор                 11683\n",
       "Израиль                   11294\n",
       "Словения                  10615\n",
       "Турция                    10131\n",
       "Сингапур                  10089\n",
       "Пуэрто-Рико                9043\n",
       "Южная Африка               7321\n",
       "Эстония                    7034\n",
       "Коста-Рика                 6792\n",
       "Парагвай                   4783\n",
       "Маврикий                   3894\n",
       "Панама                     3483\n",
       "Грузия                     3224\n",
       "Суринам                    2166\n",
       "Никарагуа                  2013\n",
       "Албания                    1970\n",
       "Люксембург                 1958\n",
       "Армения                    1905\n",
       "Азербайджан                1656\n",
       "Исландия                   1108\n",
       "Кувейт                      966\n",
       "Мальта                      585\n",
       "Бахрейн                     463\n",
       "Монголия                    423\n",
       "Кипр                        412\n",
       "Белиз                       348\n",
       "Босния и Герцеговина        318\n",
       "Фиджи                       304\n",
       "Ямайка                      184\n",
       "Барбадос                    177\n",
       "Аруба                       101\n",
       "Сейшелы                      98\n",
       "Багамы                       93\n",
       "Кабо-Верде                   42\n",
       "Макао                        27\n",
       "Сан-Марино                    4\n",
       "Доминика                      0\n",
       "Name: количество_самоубийств, dtype: int64"
      ]
     },
     "metadata": {},
     "output_type": "display_data"
    }
   ],
   "source": [
    "grouped_df = df.groupby('страна')['количество_самоубийств'].sum()\n",
    "grouped_df_sorted = grouped_df.sort_values(ascending=False)\n",
    "pd.set_option('display.max_rows', None)  # Показывать все строки\n",
    "display(grouped_df_sorted)"
   ]
  },
  {
   "cell_type": "code",
   "execution_count": 31,
   "id": "b213ab58",
   "metadata": {},
   "outputs": [
    {
     "name": "stdout",
     "output_type": "stream",
     "text": [
      "Страны с высоким уровнем самоубийств:\n",
      "['Россия', 'США', 'Япония', 'Франция', 'Украина', 'Германия', 'Республика Корея', 'Бразилия', 'Польша', 'Великобритания', 'Италия', 'Мексика', 'Канада', 'Казахстан', 'Испания']\n",
      "\n",
      "Страны со средним уровнем самоубийств:\n",
      "['Аргентина', 'Венгрия', 'Румыния', 'Австралия', 'Бельгия', 'Беларусь', 'Шри-Ланка', 'Колумбия', 'Нидерланды', 'Австрия', 'Чехия', 'Чили', 'Швеция', 'Болгария', 'Узбекистан', 'Финляндия', 'Литва', 'Швейцария', 'Сербия', 'Португалия', 'Филиппины', 'Эквадор', 'Хорватия', 'Норвегия', 'Дания', 'Новая Зеландия', 'Словакия', 'Уругвай', 'Киргизия', 'Латвия', 'Ирландия', 'Греция', 'Сальвадор', 'Израиль', 'Словения', 'Турция', 'Сингапур']\n",
      "\n",
      "Страны с низким уровнем самоубийств:\n",
      "['Пуэрто-Рико', 'Южная Африка', 'Эстония', 'Коста-Рика', 'Парагвай', 'Маврикий', 'Панама', 'Грузия', 'Суринам', 'Никарагуа', 'Албания', 'Люксембург', 'Армения', 'Азербайджан', 'Исландия', 'Кувейт', 'Мальта', 'Бахрейн', 'Монголия', 'Кипр', 'Белиз', 'Босния и Герцеговина', 'Фиджи', 'Ямайка', 'Барбадос', 'Аруба', 'Сейшелы', 'Багамы', 'Кабо-Верде', 'Макао', 'Сан-Марино', 'Доминика']\n"
     ]
    }
   ],
   "source": [
    "# Массив стран с высоким уровнем самоубийств\n",
    "countries_over_100k = grouped_df_sorted[grouped_df_sorted > 100000].index.to_list()\n",
    "\n",
    "# Массив стран со средним уровнем самоубийств\n",
    "countries_over_10k = grouped_df_sorted[(grouped_df_sorted > 10000) & (grouped_df_sorted <= 100000)].index.to_list()\n",
    "\n",
    "# Массив стран с низким уровнем самоубийств\n",
    "countries_less_10k = grouped_df_sorted[grouped_df_sorted <= 10000].index.to_list()\n",
    "\n",
    "# Вывод результатов\n",
    "print(\"Страны с высоким уровнем самоубийств:\")\n",
    "print(countries_over_100k)\n",
    "print()\n",
    "\n",
    "print(\"Страны со средним уровнем самоубийств:\")\n",
    "print(countries_over_10k)\n",
    "print()\n",
    "\n",
    "print(\"Страны с низким уровнем самоубийств:\")\n",
    "print(countries_less_10k)"
   ]
  },
  {
   "cell_type": "code",
   "execution_count": null,
   "id": "3e4b062e",
   "metadata": {},
   "outputs": [],
   "source": [
    "from sklearn.model_selection import GridSearchCV\n",
    "from sklearn.pipeline import Pipeline\n",
    "from sklearn.preprocessing import StandardScaler\n",
    "from xgboost import XGBRegressor\n",
    "\n",
    "df_predict = DataFrame()\n",
    "\n",
    "for i in train['страна'].unique():\n",
    "    train_by_country = train[train['страна'] == i]\n",
    "    y = train_by_country['Самоубийства_на_100к_человек']\n",
    "    X = train_by_country.drop(['Самоубийства_на_100к_человек', 'страна', 'население'], axis=1) \n",
    "    \n",
    "    # Определение значений параметров, которые вы хотите перебрать\n",
    "    param_grid = {\n",
    "        'model__learning_rate': [0.1, 0.2, 0.4, 0.6],\n",
    "        'model__reg_lambda': [0.3, 0.5, 0.7],\n",
    "        'model__subsample': [0.8, 0.9, 1.0]\n",
    "    }\n",
    "    \n",
    "    # Создание пайплайна для моделирования\n",
    "    pipeline = Pipeline([\n",
    "        ('scaler', StandardScaler()),\n",
    "        ('model', XGBRegressor())\n",
    "    ])\n",
    "    \n",
    "    # Создание объекта GridSearchCV с указанными параметрами\n",
    "    grid_search = GridSearchCV(pipeline, param_grid, cv=5)\n",
    "    \n",
    "    # Подгонка модели с использованием GridSearchCV\n",
    "    grid_search.fit(X, y)\n",
    "    \n",
    "    # Лучшая модель с оптимальными значениями параметров\n",
    "    best_model = grid_search.best_estimator_\n",
    "    \n",
    "    # Прогнозирование для тестового набора данных\n",
    "    test_by_country = test[test['страна'] == i]\n",
    "    test_by_country['поколение_поколение G.I.'] = 0\n",
    "    test_by_country_2 = test_by_country.drop(['население', 'страна'], axis=1)\n",
    "    test_by_country_2 = test_by_country_2.reindex(columns=X.columns)\n",
    "    predictions = best_model.predict(test_by_country_2)\n",
    "    \n",
    "    # Сохранение результатов прогнозирования\n",
    "    test_by_country['прогноз'] = predictions\n",
    "    test_by_country['прогноз_количество_суицидов'] = predictions / 100000 * test_by_country['население']\n",
    "    test_result = test_by_country.loc[:, ['страна', 'год', 'прогноз', 'население', 'прогноз_количество_суицидов']]\n",
    "    df_predict = df_predict.append(test_result)\n",
    "\n",
    "df_predict\n"
   ]
  }
 ],
 "metadata": {
  "kernelspec": {
   "display_name": "Python 3 (ipykernel)",
   "language": "python",
   "name": "python3"
  },
  "language_info": {
   "codemirror_mode": {
    "name": "ipython",
    "version": 3
   },
   "file_extension": ".py",
   "mimetype": "text/x-python",
   "name": "python",
   "nbconvert_exporter": "python",
   "pygments_lexer": "ipython3",
   "version": "3.11.5"
  }
 },
 "nbformat": 4,
 "nbformat_minor": 5
}
